{
 "cells": [
  {
   "cell_type": "code",
   "execution_count": 27,
   "metadata": {},
   "outputs": [
    {
     "name": "stdout",
     "output_type": "stream",
     "text": [
      "Please enter a number: a\n",
      "Please enter a number: -1\n",
      "Please enter a number: 0\n",
      "Please enter a number: 100\n",
      "18\n"
     ]
    }
   ],
   "source": [
    "def collatz():\n",
    "    steps=[]\n",
    "    while True:\n",
    "        \n",
    "        num=input(\"Please enter a number: \")\n",
    "        try:\n",
    "            if int(num)==0  or int(num) <0 or num == type(str):\n",
    "                continue\n",
    "        except:\n",
    "            continue\n",
    "        else:\n",
    "            x=int(num)\n",
    "            while x != 1:\n",
    "                if x%2 == 0:\n",
    "                    \n",
    "                    x= x / 2\n",
    "                    steps.append(x)\n",
    "                else:\n",
    "                    x = (x*3) +1\n",
    "                    \n",
    "        print(len(steps))\n",
    "        break\n",
    "        \n",
    "if __name__==\"__main__\":\n",
    "    collatz()"
   ]
  },
  {
   "cell_type": "code",
   "execution_count": null,
   "metadata": {},
   "outputs": [],
   "source": []
  }
 ],
 "metadata": {
  "kernelspec": {
   "display_name": "Python 3",
   "language": "python",
   "name": "python3"
  },
  "language_info": {
   "codemirror_mode": {
    "name": "ipython",
    "version": 3
   },
   "file_extension": ".py",
   "mimetype": "text/x-python",
   "name": "python",
   "nbconvert_exporter": "python",
   "pygments_lexer": "ipython3",
   "version": "3.7.4"
  }
 },
 "nbformat": 4,
 "nbformat_minor": 2
}
